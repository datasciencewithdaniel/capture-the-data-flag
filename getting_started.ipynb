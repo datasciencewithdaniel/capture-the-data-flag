{
 "cells": [
  {
   "cell_type": "markdown",
   "metadata": {},
   "source": [
    "# Getting Started with Python\n",
    "\n"
   ]
  },
  {
   "cell_type": "markdown",
   "metadata": {},
   "source": [
    "1. Activate the Virtual Environment\n",
    "```\n",
    "source .venv/bin/activate\n",
    "```\n",
    "\n",
    "2. Install Python Dependencies\n",
    "```\n",
    "python -m pip install -r requirements.txt\n",
    "```"
   ]
  },
  {
   "cell_type": "code",
   "execution_count": 1,
   "metadata": {},
   "outputs": [],
   "source": [
    "import pandas as pd\n",
    "import numpy as np"
   ]
  },
  {
   "cell_type": "code",
   "execution_count": 2,
   "metadata": {},
   "outputs": [],
   "source": [
    "base_url = \"https://capture-the-data-flag.s3.ap-southeast-2.amazonaws.com/\""
   ]
  },
  {
   "cell_type": "code",
   "execution_count": 3,
   "metadata": {},
   "outputs": [],
   "source": [
    "def read_data(url):\n",
    "    \"\"\" Function to read a given dataset url and return a Pandas DataFrame \"\"\"\n",
    "    data = pd.read_csv(url)\n",
    "    return data"
   ]
  },
  {
   "cell_type": "code",
   "execution_count": 4,
   "metadata": {},
   "outputs": [
    {
     "name": "stdout",
     "output_type": "stream",
     "text": [
      "                  competition  year     month          season location\n",
      "0         World Championships  2022     March  Season 2021/22   France\n",
      "1        Olympic Winter Games  2022  February  Season 2021/22    China\n",
      "2         World Championships  2021     March  Season 2020/21   Sweden\n",
      "3   Grand Prix Final - Senior  2019  December  Season 2019/20    Italy\n",
      "4   Grand Prix Final - Junior  2019  December  Season 2019/20    Italy\n",
      "5         World Championships  2019     March  Season 2018/19    Japan\n",
      "6   Grand Prix Final - Senior  2018  December  Season 2018/19   Canada\n",
      "7   Grand Prix Final - Junior  2018  December  Season 2018/19   Canada\n",
      "8         World Championships  2018     March  Season 2017/18    Italy\n",
      "9        Olympic Winter Games  2018  February  Season 2017/18    Korea\n",
      "10           Grand Prix Final  2017  December  Season 2017/18    Japan\n"
     ]
    }
   ],
   "source": [
    "events_url = base_url + \"Events.csv\"\n",
    "events = read_data(events_url)\n",
    "print(events)"
   ]
  },
  {
   "cell_type": "code",
   "execution_count": null,
   "metadata": {},
   "outputs": [],
   "source": []
  }
 ],
 "metadata": {
  "kernelspec": {
   "display_name": "Python 3.10.2 ('.venv': venv)",
   "language": "python",
   "name": "python3"
  },
  "language_info": {
   "codemirror_mode": {
    "name": "ipython",
    "version": 3
   },
   "file_extension": ".py",
   "mimetype": "text/x-python",
   "name": "python",
   "nbconvert_exporter": "python",
   "pygments_lexer": "ipython3",
   "version": "3.10.2"
  },
  "orig_nbformat": 4,
  "vscode": {
   "interpreter": {
    "hash": "d98e83e56d517635677b8b121de491c40e17c1a1df119a347914db7b95d9915e"
   }
  }
 },
 "nbformat": 4,
 "nbformat_minor": 2
}
