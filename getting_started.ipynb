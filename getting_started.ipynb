{
 "cells": [
  {
   "cell_type": "markdown",
   "metadata": {},
   "source": [
    "# Getting Started with Python\n",
    "\n"
   ]
  },
  {
   "cell_type": "markdown",
   "metadata": {},
   "source": [
    "1. Activate the Virtual Environment\n",
    "```\n",
    "source .venv/bin/activate\n",
    "```\n",
    "\n",
    "2. Install Python Dependencies\n",
    "```\n",
    "python -m pip install -r requirements.txt\n",
    "```"
   ]
  },
  {
   "cell_type": "code",
   "execution_count": 5,
   "metadata": {},
   "outputs": [],
   "source": [
    "import pandas as pd\n",
    "import numpy as np"
   ]
  },
  {
   "cell_type": "code",
   "execution_count": 6,
   "metadata": {},
   "outputs": [],
   "source": [
    "base_url = \"https://capture-the-data-flag.s3.ap-southeast-2.amazonaws.com/\""
   ]
  },
  {
   "cell_type": "code",
   "execution_count": 7,
   "metadata": {},
   "outputs": [],
   "source": [
    "def read_data(url, index_column=None):\n",
    "    \"\"\" Function to read a given dataset url and return a Pandas DataFrame \"\"\"\n",
    "    data = pd.read_csv(url, index_col=index_column)\n",
    "    return data"
   ]
  },
  {
   "cell_type": "code",
   "execution_count": 8,
   "metadata": {},
   "outputs": [
    {
     "data": {
      "text/html": [
       "<div>\n",
       "<style scoped>\n",
       "    .dataframe tbody tr th:only-of-type {\n",
       "        vertical-align: middle;\n",
       "    }\n",
       "\n",
       "    .dataframe tbody tr th {\n",
       "        vertical-align: top;\n",
       "    }\n",
       "\n",
       "    .dataframe thead th {\n",
       "        text-align: right;\n",
       "    }\n",
       "</style>\n",
       "<table border=\"1\" class=\"dataframe\">\n",
       "  <thead>\n",
       "    <tr style=\"text-align: right;\">\n",
       "      <th></th>\n",
       "      <th>competition</th>\n",
       "      <th>year</th>\n",
       "      <th>month</th>\n",
       "      <th>season</th>\n",
       "      <th>location</th>\n",
       "    </tr>\n",
       "  </thead>\n",
       "  <tbody>\n",
       "    <tr>\n",
       "      <th>0</th>\n",
       "      <td>World Championships</td>\n",
       "      <td>2022</td>\n",
       "      <td>March</td>\n",
       "      <td>Season 2021/22</td>\n",
       "      <td>France</td>\n",
       "    </tr>\n",
       "    <tr>\n",
       "      <th>1</th>\n",
       "      <td>Olympic Winter Games</td>\n",
       "      <td>2022</td>\n",
       "      <td>February</td>\n",
       "      <td>Season 2021/22</td>\n",
       "      <td>China</td>\n",
       "    </tr>\n",
       "    <tr>\n",
       "      <th>2</th>\n",
       "      <td>World Championships</td>\n",
       "      <td>2021</td>\n",
       "      <td>March</td>\n",
       "      <td>Season 2020/21</td>\n",
       "      <td>Sweden</td>\n",
       "    </tr>\n",
       "    <tr>\n",
       "      <th>3</th>\n",
       "      <td>Grand Prix Final - Senior</td>\n",
       "      <td>2019</td>\n",
       "      <td>December</td>\n",
       "      <td>Season 2019/20</td>\n",
       "      <td>Italy</td>\n",
       "    </tr>\n",
       "    <tr>\n",
       "      <th>4</th>\n",
       "      <td>Grand Prix Final - Junior</td>\n",
       "      <td>2019</td>\n",
       "      <td>December</td>\n",
       "      <td>Season 2019/20</td>\n",
       "      <td>Italy</td>\n",
       "    </tr>\n",
       "  </tbody>\n",
       "</table>\n",
       "</div>"
      ],
      "text/plain": [
       "                 competition  year     month          season location\n",
       "0        World Championships  2022     March  Season 2021/22   France\n",
       "1       Olympic Winter Games  2022  February  Season 2021/22    China\n",
       "2        World Championships  2021     March  Season 2020/21   Sweden\n",
       "3  Grand Prix Final - Senior  2019  December  Season 2019/20    Italy\n",
       "4  Grand Prix Final - Junior  2019  December  Season 2019/20    Italy"
      ]
     },
     "execution_count": 8,
     "metadata": {},
     "output_type": "execute_result"
    }
   ],
   "source": [
    "events_url = base_url + \"Events.csv\"\n",
    "events = read_data(events_url)\n",
    "events.head()"
   ]
  },
  {
   "cell_type": "code",
   "execution_count": null,
   "metadata": {},
   "outputs": [],
   "source": []
  }
 ],
 "metadata": {
  "kernelspec": {
   "display_name": "Python 3.10.2 ('.venv': venv)",
   "language": "python",
   "name": "python3"
  },
  "language_info": {
   "codemirror_mode": {
    "name": "ipython",
    "version": 3
   },
   "file_extension": ".py",
   "mimetype": "text/x-python",
   "name": "python",
   "nbconvert_exporter": "python",
   "pygments_lexer": "ipython3",
   "version": "3.10.2"
  },
  "orig_nbformat": 4,
  "vscode": {
   "interpreter": {
    "hash": "d98e83e56d517635677b8b121de491c40e17c1a1df119a347914db7b95d9915e"
   }
  }
 },
 "nbformat": 4,
 "nbformat_minor": 2
}
